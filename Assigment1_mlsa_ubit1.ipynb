{
 "cells": [
  {
   "cell_type": "markdown",
   "id": "087b393c",
   "metadata": {},
   "source": [
    "1. Write a program to iterate the first 10 numbers, and in each iteration, print the sum of\n",
    "the current and previous number"
   ]
  },
  {
   "cell_type": "code",
   "execution_count": 1,
   "id": "795718a5",
   "metadata": {},
   "outputs": [
    {
     "name": "stdout",
     "output_type": "stream",
     "text": [
      "1\n",
      "3\n",
      "5\n",
      "7\n",
      "9\n",
      "11\n",
      "13\n",
      "15\n",
      "17\n"
     ]
    }
   ],
   "source": [
    "for i in range(1,10):\n",
    "    if i == 1:\n",
    "        print(i)\n",
    "    else:\n",
    "        print(i + (i-1))"
   ]
  },
  {
   "cell_type": "markdown",
   "id": "061b455f",
   "metadata": {},
   "source": [
    "2. Print the following pattern\n",
    "1\n",
    "2 2\n",
    "3 3 3\n",
    "4 4 4 4\n",
    "5 5 5 5 5"
   ]
  },
  {
   "cell_type": "code",
   "execution_count": 2,
   "id": "8a9d93cc",
   "metadata": {},
   "outputs": [
    {
     "name": "stdout",
     "output_type": "stream",
     "text": [
      "1 \n",
      "2 2 \n",
      "3 3 3 \n",
      "4 4 4 4 \n",
      "5 5 5 5 5 \n"
     ]
    }
   ],
   "source": [
    "for i in range(1, 6):\n",
    "    print((str(i) + ' ') * i)"
   ]
  },
  {
   "cell_type": "markdown",
   "id": "8eb57206",
   "metadata": {},
   "source": [
    "3. List is given below:\n",
    "numbers = [12, 75, 150, 180, 145, 525, 50]\n",
    "Write a program to display only those numbers from a list that satisfy the following\n",
    "conditions\n",
    "i. The number must be divisible by five\n",
    "ii. If the number is greater than 150, then skip it and move to the next number\n",
    "iii. If the number is greater than 500, then stop the loop"
   ]
  },
  {
   "cell_type": "code",
   "execution_count": 3,
   "id": "edb03975",
   "metadata": {},
   "outputs": [
    {
     "name": "stdout",
     "output_type": "stream",
     "text": [
      "75\n",
      "150\n",
      "145\n"
     ]
    }
   ],
   "source": [
    "numbers = [12, 75, 150, 180, 145, 525, 50]\n",
    "\n",
    "for num in numbers:\n",
    "    if num % 5 == 0:\n",
    "        if num > 500:\n",
    "            break\n",
    "        elif num > 150:\n",
    "            continue\n",
    "        print(num)"
   ]
  },
  {
   "cell_type": "markdown",
   "id": "55163014",
   "metadata": {},
   "source": [
    "4. Display Fibonacci series up to 10 terms\n",
    "The Fibonacci Sequence is a series of numbers. The next number is found by adding\n",
    "up the two numbers before it. The first two numbers are 0 and 1.\n",
    "For example, 0, 1, 1, 2, 3, 5, 8, 13, 21. The next number in this series above is\n",
    "13+21 = 34."
   ]
  },
  {
   "cell_type": "code",
   "execution_count": 4,
   "id": "eb5f0bf5",
   "metadata": {},
   "outputs": [
    {
     "name": "stdout",
     "output_type": "stream",
     "text": [
      "0 1 1 2 3 5 8 13 21 34 "
     ]
    }
   ],
   "source": [
    "a, b = 0, 1\n",
    "\n",
    "for i in range(10):\n",
    "    print(a, end=\" \")\n",
    "    a, b = b, a + b"
   ]
  },
  {
   "cell_type": "markdown",
   "id": "5bbfc08e",
   "metadata": {},
   "source": [
    "5. Write a program to use the loop to find the factorial of a given number.\n",
    "The factorial (symbol: !) means to multiply all whole numbers from the chosen number\n",
    "down to 1.\n",
    "For example: calculate the factorial of 5\n",
    "5! = 5 × 4 × 3 × 2 × 1 = 120"
   ]
  },
  {
   "cell_type": "code",
   "execution_count": 5,
   "id": "4f1410c7",
   "metadata": {},
   "outputs": [
    {
     "name": "stdout",
     "output_type": "stream",
     "text": [
      "10! = 3628800\n"
     ]
    }
   ],
   "source": [
    "def factorial(n):\n",
    "    result = 1\n",
    "    for i in range(1, n + 1):\n",
    "        result *= i\n",
    "    return result\n",
    "\n",
    "num = 10\n",
    "print(f\"{num}! = {factorial(num)}\")"
   ]
  },
  {
   "cell_type": "markdown",
   "id": "1c2a9884",
   "metadata": {},
   "source": [
    "6. Write a program to iterate a given list and count the occurrence of each element and\n",
    "print to show the count of each element.\n",
    "sample_list = [11, 45, 8, 11, 23, 45, 23, 45, 89]\n",
    "Expected Output:\n",
    "Printing count of each item 11: 2, 45: 3, 8: 1, 23: 2, 89: 1"
   ]
  },
  {
   "cell_type": "code",
   "execution_count": 6,
   "id": "006f0935",
   "metadata": {},
   "outputs": [
    {
     "name": "stdout",
     "output_type": "stream",
     "text": [
      "Printing count of each item: 11: 2, 45: 3, 8: 1, 23: 2, 89: 1, "
     ]
    }
   ],
   "source": [
    "sample_list = [11, 45, 8, 11, 23, 45, 23, 45, 89]\n",
    "\n",
    "count_dict = {}\n",
    "for item in sample_list:\n",
    "    if item in count_dict:\n",
    "        count_dict[item] += 1\n",
    "    else:\n",
    "        count_dict[item] = 1\n",
    "\n",
    "print(\"Printing count of each item:\", end=\" \")\n",
    "for key, value in count_dict.items():\n",
    "    print(f\"{key}: {value}\", end=\", \")"
   ]
  },
  {
   "cell_type": "markdown",
   "id": "71535e3c",
   "metadata": {},
   "source": [
    "7. Given two lists, l1 and l2, write a program to create a third list l3 by picking an\n",
    "odd-index element from the list l1 and even index elements from the list l2.\n",
    "Given:\n",
    "l1 = [3, 6, 9, 12, 15, 18, 21]\n",
    "l2 = [4, 8, 12, 16, 20, 24, 28]"
   ]
  },
  {
   "cell_type": "code",
   "execution_count": 7,
   "id": "ac1288ba",
   "metadata": {},
   "outputs": [
    {
     "name": "stdout",
     "output_type": "stream",
     "text": [
      "[6, 12, 18, 4, 12, 20, 28]\n"
     ]
    }
   ],
   "source": [
    "l1 = [3, 6, 9, 12, 15, 18, 21]\n",
    "l2 = [4, 8, 12, 16, 20, 24, 28]\n",
    "\n",
    "l3 = l1[1::2] + l2[::2]\n",
    "print(l3)"
   ]
  },
  {
   "cell_type": "code",
   "execution_count": 8,
   "id": "8b098342",
   "metadata": {},
   "outputs": [],
   "source": [
    "# Done"
   ]
  }
 ],
 "metadata": {
  "kernelspec": {
   "display_name": "Python 3 (ipykernel)",
   "language": "python",
   "name": "python3"
  },
  "language_info": {
   "codemirror_mode": {
    "name": "ipython",
    "version": 3
   },
   "file_extension": ".py",
   "mimetype": "text/x-python",
   "name": "python",
   "nbconvert_exporter": "python",
   "pygments_lexer": "ipython3",
   "version": "3.9.13"
  }
 },
 "nbformat": 4,
 "nbformat_minor": 5
}
