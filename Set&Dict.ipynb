{
 "cells": [
  {
   "cell_type": "markdown",
   "id": "73cb7bd5",
   "metadata": {},
   "source": [
    "# Sets in Python Tasks"
   ]
  },
  {
   "cell_type": "markdown",
   "id": "6a25d72b",
   "metadata": {},
   "source": [
    "1. Write a Python program to remove an item from a set if it is present in the set."
   ]
  },
  {
   "cell_type": "code",
   "execution_count": 1,
   "id": "c9d3f7b2",
   "metadata": {},
   "outputs": [
    {
     "name": "stdout",
     "output_type": "stream",
     "text": [
      "20 in {50, 40, 10, 30} is removed.\n",
      "--------------------\n",
      "New Set: {50, 40, 10, 30}\n"
     ]
    }
   ],
   "source": [
    "set1 = {10, 20, 30, 40, 50}\n",
    "\n",
    "value = 20\n",
    "\n",
    "if value in set1:\n",
    "    set1.remove(value)\n",
    "    print(f'{value} in {set1} is removed.')\n",
    "    print('--------------------')\n",
    "    print(f'New Set: {set1}')\n",
    "else:\n",
    "    print(f'{value} in {set1} is not found.')"
   ]
  },
  {
   "cell_type": "markdown",
   "id": "6428acca",
   "metadata": {},
   "source": [
    "2. Write a Python program to remove items 10, 20, 30 from the following set\n",
    "\n",
    "set1 = {10, 20, 30, 40, 50}"
   ]
  },
  {
   "cell_type": "code",
   "execution_count": 2,
   "id": "924bc112",
   "metadata": {},
   "outputs": [
    {
     "name": "stdout",
     "output_type": "stream",
     "text": [
      "{50, 40}\n"
     ]
    }
   ],
   "source": [
    "set1 = {10, 20, 30, 40, 50}\n",
    "\n",
    "set1 -= {10, 20, 30}\n",
    "\n",
    "print(set1)"
   ]
  },
  {
   "cell_type": "markdown",
   "id": "92dd55a6",
   "metadata": {},
   "source": [
    "3. Check if two sets have any elements in common. If yes, display the common elements\n",
    "\n",
    "set1 = {10, 20, 30, 40, 50}\n",
    "\n",
    "set2 = {60, 70, 80, 90, 10}"
   ]
  },
  {
   "cell_type": "code",
   "execution_count": 3,
   "id": "367e18c5",
   "metadata": {},
   "outputs": [
    {
     "name": "stdout",
     "output_type": "stream",
     "text": [
      "Matching elements: 10\n",
      "No more Match found\n"
     ]
    }
   ],
   "source": [
    "set1 = {10, 20, 30, 40, 50}\n",
    "\n",
    "set2 = {60, 70, 80, 90, 10}\n",
    "\n",
    "for i in set1:\n",
    "    for j in set2:\n",
    "        if i == j:\n",
    "            print(f'Matching elements: {i}')\n",
    "        else:\n",
    "            pass\n",
    "print('No more Match found')"
   ]
  },
  {
   "cell_type": "markdown",
   "id": "0c67f5a8",
   "metadata": {},
   "source": [
    "4. Update set1 by adding items from set2, except common items\n",
    "\n",
    "\n",
    "set1 = {10, 20, 30, 40, 50}\n",
    "\n",
    "set2 = {30, 40, 50, 60, 70}\n",
    "\n"
   ]
  },
  {
   "cell_type": "code",
   "execution_count": 4,
   "id": "3cba9f18",
   "metadata": {},
   "outputs": [
    {
     "name": "stdout",
     "output_type": "stream",
     "text": [
      "{10, 20, 70, 60}\n"
     ]
    }
   ],
   "source": [
    "set1 = {10, 20, 30, 40, 50}\n",
    "\n",
    "set2 = {30, 40, 50, 60, 70}\n",
    "\n",
    "set1.symmetric_difference_update(set2)\n",
    "\n",
    "set1 = set(set1)\n",
    "\n",
    "print(set1)"
   ]
  },
  {
   "cell_type": "markdown",
   "id": "9301e209",
   "metadata": {},
   "source": [
    "5. Remove items from set1 that are not common to both set1 and set2\n",
    "\n",
    "\n",
    "set1 = {10, 20, 30, 40, 50}\n",
    "\n",
    "set2 = {30, 40, 50, 60, 70}"
   ]
  },
  {
   "cell_type": "code",
   "execution_count": 5,
   "id": "46e46da4",
   "metadata": {},
   "outputs": [
    {
     "name": "stdout",
     "output_type": "stream",
     "text": [
      "{40, 50, 30}\n"
     ]
    }
   ],
   "source": [
    "set1 = {10, 20, 30, 40, 50}\n",
    "\n",
    "set2 = {30, 40, 50, 60, 70}\n",
    "\n",
    "set1.intersection_update(set2)\n",
    "\n",
    "print(set1)"
   ]
  },
  {
   "cell_type": "markdown",
   "id": "5119b781",
   "metadata": {},
   "source": [
    "# Dictionaries in Python Tasks"
   ]
  },
  {
   "cell_type": "markdown",
   "id": "91b7497b",
   "metadata": {},
   "source": [
    "1. Write a Python script to check whether a given key already exists in a dictionary."
   ]
  },
  {
   "cell_type": "code",
   "execution_count": 6,
   "id": "55e77326",
   "metadata": {},
   "outputs": [
    {
     "name": "stdout",
     "output_type": "stream",
     "text": [
      "Enter a key name to check: b\n",
      "b: Given key already exists\n"
     ]
    }
   ],
   "source": [
    "d1 = {'a': 100, 'b': 200, 'c':300}\n",
    "key_check = input('Enter a key name to check: ')\n",
    "\n",
    "\n",
    "for i in d1:\n",
    "    if i == key_check:\n",
    "        print(f'{i}: Given key already exists')\n",
    "    else:\n",
    "        pass"
   ]
  },
  {
   "cell_type": "markdown",
   "id": "a1abe3e2",
   "metadata": {},
   "source": [
    "\n",
    "2. Write a Python program to combine two dictionary by adding values for common keys.\n",
    "\n",
    "d1 = {'a': 100, 'b': 200, 'c':300}\n",
    "\n",
    "d2 = {'a': 300, 'b': 200, 'd':400}\n"
   ]
  },
  {
   "cell_type": "code",
   "execution_count": 7,
   "id": "c1b6de58",
   "metadata": {},
   "outputs": [
    {
     "name": "stdout",
     "output_type": "stream",
     "text": [
      "{'a': 400, 'b': 400, 'c': 300, 'd': 400}\n"
     ]
    }
   ],
   "source": [
    "d1 = {'a': 100, 'b': 200, 'c':300}\n",
    "\n",
    "d2 = {'a': 300, 'b': 200, 'd':400}\n",
    "\n",
    "for i in d2:\n",
    "    if i in d1:\n",
    "        d1[i] += d2[i]\n",
    "    else:\n",
    "        d1[i] = d2[i]\n",
    "        \n",
    "print(d1)"
   ]
  },
  {
   "cell_type": "markdown",
   "id": "86efe1b5",
   "metadata": {},
   "source": [
    "\n",
    "3. Below are the two lists. Write a Python program to convert them into a dictionary in a way that item from list1 is the key and item from list2 is the value\n",
    "\n",
    "keys = ['Ten', 'Twenty', 'Thirty']\n",
    "\n",
    "values = [10, 20, 30]"
   ]
  },
  {
   "cell_type": "code",
   "execution_count": 8,
   "id": "684ab63b",
   "metadata": {},
   "outputs": [
    {
     "name": "stdout",
     "output_type": "stream",
     "text": [
      "{'Ten': 10, 'Twenty': 20, 'Thirty': 30}\n"
     ]
    }
   ],
   "source": [
    "keys = ['Ten', 'Twenty', 'Thirty']\n",
    "values = [10, 20, 30]\n",
    "\n",
    "result_dict = {}\n",
    "\n",
    "for i in range(len(keys)):\n",
    "    result_dict[keys[i]] = values[i]\n",
    "\n",
    "print(result_dict)"
   ]
  },
  {
   "cell_type": "markdown",
   "id": "1a5ad9db",
   "metadata": {},
   "source": [
    "\n",
    "4. Delete a list of keys from a dictionary\n",
    "Given:\n",
    "\n",
    "sample_dict = {\n",
    "    \"name\": \"Kelly\",\n",
    "    \"age\": 25,\n",
    "    \"salary\": 8000,\n",
    "    \"city\": \"New york\"\n",
    "}\n",
    "\n",
    "\n",
    "Keys to remove\n",
    "\n",
    "keys = [\"name\", \"salary\"]\n"
   ]
  },
  {
   "cell_type": "code",
   "execution_count": 9,
   "id": "f5bfd2d7",
   "metadata": {},
   "outputs": [
    {
     "name": "stdout",
     "output_type": "stream",
     "text": [
      "{'age': 25, 'city': 'New York'}\n"
     ]
    }
   ],
   "source": [
    "sample_dict = {\n",
    "    \n",
    "    \"name\": \"Kelly\",\n",
    "    \"age\": 25,\n",
    "    \"salary\": 8000,\n",
    "    \"city\": \"New York\"\n",
    "}\n",
    "\n",
    "keys_to_remove = [\"name\", \"salary\"]\n",
    "\n",
    "for key in keys_to_remove:\n",
    "    if key in sample_dict:\n",
    "        del sample_dict[key]\n",
    "\n",
    "print(sample_dict)"
   ]
  },
  {
   "cell_type": "markdown",
   "id": "0ae44300",
   "metadata": {},
   "source": [
    "5. Write a Python program to check if value 200 exists in the following dictionary.\n",
    "\n",
    "\n",
    "sample_dict = {'a': 100, 'b': 200, 'c': 300}"
   ]
  },
  {
   "cell_type": "code",
   "execution_count": 10,
   "id": "c6a9e937",
   "metadata": {},
   "outputs": [
    {
     "name": "stdout",
     "output_type": "stream",
     "text": [
      "200 is present\n"
     ]
    }
   ],
   "source": [
    "sample_dict = {'a': 100, 'b': 200, 'c': 300}\n",
    "\n",
    "for i in sample_dict.values():\n",
    "    if i == 200:\n",
    "        print(f'{i} is present')\n",
    "        break\n",
    "    else:\n",
    "        pass"
   ]
  },
  {
   "cell_type": "code",
   "execution_count": 11,
   "id": "7a78337c",
   "metadata": {},
   "outputs": [],
   "source": [
    "# Done"
   ]
  }
 ],
 "metadata": {
  "kernelspec": {
   "display_name": "Python 3 (ipykernel)",
   "language": "python",
   "name": "python3"
  },
  "language_info": {
   "codemirror_mode": {
    "name": "ipython",
    "version": 3
   },
   "file_extension": ".py",
   "mimetype": "text/x-python",
   "name": "python",
   "nbconvert_exporter": "python",
   "pygments_lexer": "ipython3",
   "version": "3.9.13"
  }
 },
 "nbformat": 4,
 "nbformat_minor": 5
}
