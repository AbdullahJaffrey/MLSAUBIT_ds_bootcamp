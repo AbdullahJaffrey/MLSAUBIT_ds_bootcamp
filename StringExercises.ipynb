{
 "cells": [
  {
   "cell_type": "markdown",
   "id": "778b3ec9",
   "metadata": {},
   "source": [
    "Accept the string from the user and diplay the string with first charactor of each word is capital"
   ]
  },
  {
   "cell_type": "code",
   "execution_count": 1,
   "id": "a1d5e2a4",
   "metadata": {},
   "outputs": [
    {
     "name": "stdout",
     "output_type": "stream",
     "text": [
      "Enter your message: my name is abdullah jafri.\n",
      "My Name Is Abdullah Jafri.\n"
     ]
    }
   ],
   "source": [
    "user_input = input('Enter your message: ')\n",
    "\n",
    "list1 = user_input.split(' ')\n",
    "\n",
    "list2 = []\n",
    "\n",
    "for i in list1:\n",
    "    i = i.capitalize()\n",
    "    list2.append(i)\n",
    "\n",
    "\n",
    "user = ' '.join(list2)\n",
    "print(user)"
   ]
  },
  {
   "cell_type": "markdown",
   "id": "a6ddb669",
   "metadata": {},
   "source": [
    "Write a program to accept string from user and display n charactors from the left of a string"
   ]
  },
  {
   "cell_type": "code",
   "execution_count": 2,
   "id": "cb8eab90",
   "metadata": {},
   "outputs": [
    {
     "name": "stdout",
     "output_type": "stream",
     "text": [
      "Enter the number of characters to display from the left: 20\n",
      "my name is abdullah \n"
     ]
    }
   ],
   "source": [
    "n = int(input(\"Enter the number of characters to display from the left: \"))\n",
    "\n",
    "print(user_input[:n])"
   ]
  },
  {
   "cell_type": "markdown",
   "id": "bdac91e4",
   "metadata": {},
   "source": [
    "Write a program to reverse string in Python"
   ]
  },
  {
   "cell_type": "code",
   "execution_count": 3,
   "id": "6dbdee0a",
   "metadata": {},
   "outputs": [
    {
     "name": "stdout",
     "output_type": "stream",
     "text": [
      "my name is abdullah jafri.\n",
      "-----------\n",
      ".irfaj halludba si eman ym\n"
     ]
    }
   ],
   "source": [
    "print(user_input)\n",
    "print('-----------')\n",
    "print(user_input[::-1])"
   ]
  },
  {
   "cell_type": "code",
   "execution_count": 4,
   "id": "58e02347",
   "metadata": {},
   "outputs": [],
   "source": [
    "# Done"
   ]
  }
 ],
 "metadata": {
  "kernelspec": {
   "display_name": "Python 3 (ipykernel)",
   "language": "python",
   "name": "python3"
  },
  "language_info": {
   "codemirror_mode": {
    "name": "ipython",
    "version": 3
   },
   "file_extension": ".py",
   "mimetype": "text/x-python",
   "name": "python",
   "nbconvert_exporter": "python",
   "pygments_lexer": "ipython3",
   "version": "3.9.13"
  }
 },
 "nbformat": 4,
 "nbformat_minor": 5
}
