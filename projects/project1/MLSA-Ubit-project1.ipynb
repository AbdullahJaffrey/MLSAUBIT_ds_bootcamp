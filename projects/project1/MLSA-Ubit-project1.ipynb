{
 "cells": [
  {
   "cell_type": "code",
   "execution_count": 1,
   "id": "480f9f3a",
   "metadata": {},
   "outputs": [],
   "source": [
    "import csv\n",
    "import datetime"
   ]
  },
  {
   "cell_type": "code",
   "execution_count": 2,
   "id": "bbd7ac4b",
   "metadata": {},
   "outputs": [],
   "source": [
    "class Book:\n",
    "    def __init__(self, title, author, quantity):\n",
    "        self.title = title\n",
    "        self.author = author\n",
    "        self.quantity = quantity"
   ]
  },
  {
   "cell_type": "code",
   "execution_count": 3,
   "id": "c3f2489e",
   "metadata": {},
   "outputs": [],
   "source": [
    "class Admin:\n",
    "    def __init__(self, username, password):\n",
    "        self.username = username\n",
    "        self.password = password"
   ]
  },
  {
   "cell_type": "code",
   "execution_count": 4,
   "id": "fe783053",
   "metadata": {},
   "outputs": [],
   "source": [
    "class LibraryManagementSystem:\n",
    "    def __init__(self):\n",
    "        self.books = []\n",
    "        self.admins = []\n",
    "        self.current_admin = None\n",
    "        self.load_data_from_csv()\n",
    "\n",
    "    def add_book(self, title, author, quantity):\n",
    "        book = Book(title, author, quantity)\n",
    "        self.books.append(book)\n",
    "        print(f\"Book '{title}' added successfully.\")\n",
    "        self.save_books_to_csv()\n",
    "\n",
    "    def issue_book(self, student_id, book_title):\n",
    "        for book in self.books:\n",
    "            if book.title == book_title and book.quantity > 0:\n",
    "                book.quantity -= 1\n",
    "                print(f\"Book '{book_title}' issued to student {student_id}.\")\n",
    "                return\n",
    "        print(f\"Book '{book_title}' not available for issuance.\")\n",
    "\n",
    "    def edit_book(self, book_title, new_title, new_author, new_quantity):\n",
    "        for book in self.books:\n",
    "            if book.title == book_title:\n",
    "                book.title = new_title\n",
    "                book.author = new_author\n",
    "                book.quantity = new_quantity\n",
    "                print(f\"Book '{book_title}' details updated successfully.\")\n",
    "                return\n",
    "        print(f\"Book '{book_title}' not found.\")\n",
    "\n",
    "    def return_book(self, student_id, book_title):\n",
    "        for book in self.books:\n",
    "            if book.title == book_title:\n",
    "                book.quantity += 1\n",
    "                print(f\"Book '{book_title}' returned by student {student_id}.\")\n",
    "                return\n",
    "        print(f\"Book '{book_title}' not found.\")\n",
    "\n",
    "    def delete_book(self, book_title):\n",
    "        for book in self.books:\n",
    "            if book.title == book_title:\n",
    "                self.books.remove(book)\n",
    "                print(f\"Book '{book_title}' deleted successfully.\")\n",
    "                return\n",
    "        print(f\"Book '{book_title}' not found.\")\n",
    "\n",
    "    def search_books(self, search_term):\n",
    "        matching_books = [book for book in self.books if search_term.lower() in book.title.lower()]\n",
    "        if matching_books:\n",
    "            print(\"Matching Books:\")\n",
    "            for book in matching_books:\n",
    "                print(f\"Title: {book.title}, Author: {book.author}, Quantity: {book.quantity}\")\n",
    "        else:\n",
    "            print(\"No matching books found.\")\n",
    "\n",
    "    def show_books(self):\n",
    "        for book in self.books:\n",
    "            print(f\"Title: {book.title}, Author: {book.author}, Quantity: {book.quantity}\")\n",
    "\n",
    "    def login(self, username, password):\n",
    "        for admin in self.admins:\n",
    "            if admin.username == username and admin.password == password:\n",
    "                self.current_admin = admin\n",
    "                print(f\"Logged in as: {admin.username}\")\n",
    "                return\n",
    "        print(\"Invalid username or password.\")\n",
    "\n",
    "    def logout(self):\n",
    "        self.current_admin = None\n",
    "        print(\"Logged out successfully.\")\n",
    "        \n",
    "    def save_books_to_csv(self):\n",
    "        with open('books.csv', 'w', newline='') as file:\n",
    "            writer = csv.writer(file)\n",
    "            writer.writerow(['Title', 'Author', 'Quantity'])\n",
    "            for book in self.books:\n",
    "                writer.writerow([book.title, book.author, book.quantity])\n",
    "\n",
    "    def load_books_from_csv(self):\n",
    "        try:\n",
    "            with open('books.csv', 'r') as file:\n",
    "                reader = csv.reader(file)\n",
    "                next(reader)\n",
    "                for row in reader:\n",
    "                    title, author, quantity = row\n",
    "                    self.books.append(Book(title, author, int(quantity)))\n",
    "        except FileNotFoundError:\n",
    "            pass\n",
    "\n",
    "    def save_admins_to_csv(self):\n",
    "        with open('admins.csv', 'w', newline='') as file:\n",
    "            writer = csv.writer(file)\n",
    "            writer.writerow(['Username', 'Password'])\n",
    "            for admin in self.admins:\n",
    "                writer.writerow([admin.username, admin.password])\n",
    "\n",
    "    def load_admins_from_csv(self):\n",
    "        try:\n",
    "            with open('admins.csv', 'r') as file:\n",
    "                reader = csv.reader(file)\n",
    "                next(reader)\n",
    "                for row in reader:\n",
    "                    username, password = row\n",
    "                    self.admins.append(Admin(username, password))\n",
    "        except FileNotFoundError:\n",
    "            pass\n",
    "\n",
    "    def load_data_from_csv(self):\n",
    "        self.load_books_from_csv()\n",
    "        self.load_admins_from_csv()"
   ]
  },
  {
   "cell_type": "code",
   "execution_count": 5,
   "id": "c20e879a",
   "metadata": {},
   "outputs": [],
   "source": [
    "library_system = LibraryManagementSystem()"
   ]
  },
  {
   "cell_type": "code",
   "execution_count": 6,
   "id": "ac1b67b1",
   "metadata": {},
   "outputs": [],
   "source": [
    "library_system.admins.append(Admin(\"Abdullah\", \"mypassword\"))\n",
    "\n",
    "# This will create an account with given credentials. In my case, its \"Abduulah\" and 'mypassword'"
   ]
  },
  {
   "cell_type": "code",
   "execution_count": 7,
   "id": "cf46633a",
   "metadata": {},
   "outputs": [
    {
     "name": "stdout",
     "output_type": "stream",
     "text": [
      "Invalid username or password.\n"
     ]
    }
   ],
   "source": [
    "library_system.login(\"AbdullahJafri\", \"mypassword\") # Providing wrong credentials to check"
   ]
  },
  {
   "cell_type": "code",
   "execution_count": 8,
   "id": "3ca788b8",
   "metadata": {},
   "outputs": [
    {
     "name": "stdout",
     "output_type": "stream",
     "text": [
      "Invalid username or password.\n"
     ]
    }
   ],
   "source": [
    "library_system.login(\"abdullah\", \"mypassword\")"
   ]
  },
  {
   "cell_type": "code",
   "execution_count": 9,
   "id": "e68029fe",
   "metadata": {},
   "outputs": [
    {
     "name": "stdout",
     "output_type": "stream",
     "text": [
      "Book 'Introduction to Python' added successfully.\n",
      "Book 'Introduction to JS' added successfully.\n",
      "Book 'Introduction to HTML' added successfully.\n"
     ]
    }
   ],
   "source": [
    "library_system.add_book(\"Introduction to Python\", \"Guido van Rossum\", 91)\n",
    "library_system.add_book(\"Introduction to JS\", \"Brendan Eich\", 95)\n",
    "library_system.add_book(\"Introduction to HTML\", \"Tim Berners-Lee\", 93)"
   ]
  },
  {
   "cell_type": "code",
   "execution_count": 10,
   "id": "304fe3f5",
   "metadata": {},
   "outputs": [
    {
     "name": "stdout",
     "output_type": "stream",
     "text": [
      "Title: Introduction to Python, Author: Guido van Rossum, Quantity: 91\n",
      "Title: Introduction to JS, Author: Brendan Eich, Quantity: 95\n",
      "Title: Introduction to HTML, Author: Tim Berners-Lee, Quantity: 93\n"
     ]
    }
   ],
   "source": [
    "library_system.show_books()"
   ]
  },
  {
   "cell_type": "code",
   "execution_count": 11,
   "id": "716551be",
   "metadata": {},
   "outputs": [
    {
     "name": "stdout",
     "output_type": "stream",
     "text": [
      "Logged out successfully.\n"
     ]
    }
   ],
   "source": [
    "library_system.logout()"
   ]
  },
  {
   "cell_type": "code",
   "execution_count": 12,
   "id": "c7e0ec66",
   "metadata": {},
   "outputs": [],
   "source": [
    "# done"
   ]
  }
 ],
 "metadata": {
  "kernelspec": {
   "display_name": "Python 3 (ipykernel)",
   "language": "python",
   "name": "python3"
  },
  "language_info": {
   "codemirror_mode": {
    "name": "ipython",
    "version": 3
   },
   "file_extension": ".py",
   "mimetype": "text/x-python",
   "name": "python",
   "nbconvert_exporter": "python",
   "pygments_lexer": "ipython3",
   "version": "3.9.13"
  }
 },
 "nbformat": 4,
 "nbformat_minor": 5
}
