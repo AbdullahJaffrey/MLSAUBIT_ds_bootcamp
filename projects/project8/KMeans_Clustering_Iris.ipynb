{
 "cells": [
  {
   "cell_type": "markdown",
   "id": "f03521fe",
   "metadata": {},
   "source": [
    "<h5> Importing Libraries: </h5>"
   ]
  },
  {
   "cell_type": "code",
   "execution_count": null,
   "id": "30bebb16",
   "metadata": {},
   "outputs": [],
   "source": [
    "import pandas as pd"
   ]
  },
  {
   "cell_type": "code",
   "execution_count": null,
   "id": "8a46f849",
   "metadata": {},
   "outputs": [],
   "source": [
    "import numpy as np"
   ]
  },
  {
   "cell_type": "code",
   "execution_count": null,
   "id": "0afd1627",
   "metadata": {},
   "outputs": [],
   "source": [
    "import matplotlib.pyplot as plt"
   ]
  },
  {
   "cell_type": "code",
   "execution_count": null,
   "id": "da0c4c4a",
   "metadata": {},
   "outputs": [],
   "source": [
    "import seaborn as sns"
   ]
  },
  {
   "cell_type": "code",
   "execution_count": null,
   "id": "faa18142",
   "metadata": {},
   "outputs": [],
   "source": [
    "from sklearn.cluster import KMeans"
   ]
  },
  {
   "cell_type": "markdown",
   "id": "82c5d70a",
   "metadata": {},
   "source": [
    "<h5> Importing Data: </h5>"
   ]
  },
  {
   "cell_type": "code",
   "execution_count": null,
   "id": "54b74b5f",
   "metadata": {},
   "outputs": [],
   "source": [
    "df = pd.read_csv('Iris.csv')"
   ]
  },
  {
   "cell_type": "code",
   "execution_count": null,
   "id": "8262560b",
   "metadata": {},
   "outputs": [],
   "source": [
    "df = df.drop(['SepalLengthCm','SepalWidthCm'], axis = 1)"
   ]
  },
  {
   "cell_type": "code",
   "execution_count": null,
   "id": "8b7e1bc9",
   "metadata": {},
   "outputs": [],
   "source": [
    "df.head()"
   ]
  },
  {
   "cell_type": "markdown",
   "id": "28ff36fa",
   "metadata": {},
   "source": [
    "<h5> EDA: </h5>"
   ]
  },
  {
   "cell_type": "code",
   "execution_count": null,
   "id": "44201458",
   "metadata": {},
   "outputs": [],
   "source": [
    "df.info()"
   ]
  },
  {
   "cell_type": "code",
   "execution_count": null,
   "id": "939658de",
   "metadata": {},
   "outputs": [],
   "source": [
    "df.isnull().sum()"
   ]
  },
  {
   "cell_type": "code",
   "execution_count": null,
   "id": "f5cf7276",
   "metadata": {},
   "outputs": [],
   "source": [
    "df.Species.value_counts()"
   ]
  },
  {
   "cell_type": "markdown",
   "id": "e675c83b",
   "metadata": {},
   "source": [
    "<h5> Visualization: </h5>"
   ]
  },
  {
   "cell_type": "code",
   "execution_count": null,
   "id": "44bf6f45",
   "metadata": {},
   "outputs": [],
   "source": [
    "df = df.drop(['Id'], axis=1)\n",
    "df['Species'] = df['Species'].apply(lambda x: 0 if x == 'Iris-setosa' else 1 if x == 'Iris-versicolor' else 2) \n",
    "df.sample(5)"
   ]
  },
  {
   "cell_type": "code",
   "execution_count": null,
   "id": "4082aec0",
   "metadata": {},
   "outputs": [],
   "source": [
    "plt.figure(figsize=(10, 5))\n",
    "sns.pairplot(df, hue='Species')\n",
    "plt.show()"
   ]
  },
  {
   "cell_type": "code",
   "execution_count": null,
   "id": "a24e3c6f",
   "metadata": {},
   "outputs": [],
   "source": [
    "plt.figure(figsize=(10, 5))\n",
    "sns.violinplot(x='Species', y='PetalLengthCm', data=df)\n",
    "plt.title('Violin Plot of Petal Length by Species')\n",
    "plt.show()"
   ]
  },
  {
   "cell_type": "code",
   "execution_count": null,
   "id": "e68f5034",
   "metadata": {},
   "outputs": [],
   "source": [
    "plt.figure(figsize=(10, 5))\n",
    "sns.violinplot(x='Species', y='PetalWidthCm', data=df)\n",
    "plt.title('Violin Plot of Petal Width by Species')\n",
    "plt.show()"
   ]
  },
  {
   "cell_type": "code",
   "execution_count": null,
   "id": "c8b96a78",
   "metadata": {},
   "outputs": [],
   "source": [
    "plt.figure(figsize=(10, 5))\n",
    "sns.heatmap(df.corr(), annot=True, cmap='coolwarm')\n",
    "plt.title('Correlation Heatmap')\n",
    "plt.show()"
   ]
  },
  {
   "cell_type": "code",
   "execution_count": null,
   "id": "e5cf546c",
   "metadata": {},
   "outputs": [],
   "source": [
    "plt.figure(figsize=(10, 5))\n",
    "sns.boxplot(data=df)\n",
    "plt.title('Finding the outliers of Iris Dataset')\n",
    "plt.show()"
   ]
  },
  {
   "cell_type": "code",
   "execution_count": null,
   "id": "e3e6f3f8",
   "metadata": {},
   "outputs": [],
   "source": [
    "X = df.drop('Species', axis=1).values"
   ]
  },
  {
   "cell_type": "code",
   "execution_count": null,
   "id": "b1b38e38",
   "metadata": {},
   "outputs": [],
   "source": [
    "# WE are using the Elbow Method to find out the optimum no. of clusters\n",
    "wcss = []\n",
    "for i in range(2, 10):\n",
    "    kmeans = KMeans(n_clusters=i, init='k-means++', max_iter=300, n_init=10, random_state=0)\n",
    "    kmeans.fit(X)\n",
    "    wcss.append(kmeans.inertia_)"
   ]
  },
  {
   "cell_type": "markdown",
   "id": "f8169078",
   "metadata": {},
   "source": [
    "<h1> Elbow Method: </h1>\n",
    "\n",
    "<h5> It is an unsupervised method that helps us to find optimum no. of cluster in KMeans. </h5>"
   ]
  },
  {
   "cell_type": "code",
   "execution_count": null,
   "id": "fe7e6090",
   "metadata": {},
   "outputs": [],
   "source": [
    "# Plot the Elbow Method\n",
    "plt.figure(figsize=(10,5))\n",
    "plt.plot(range(2, 10), wcss)\n",
    "plt.title('Elbow Method')\n",
    "plt.xlabel('Number of clusters')\n",
    "plt.ylabel('WCSS')\n",
    "plt.show()"
   ]
  },
  {
   "cell_type": "code",
   "execution_count": null,
   "id": "adffaeb7",
   "metadata": {},
   "outputs": [],
   "source": [
    "# Applying KMeans with thwe optimum no. of clusters\n",
    "kmeans = KMeans(n_clusters=3, init='k-means++', max_iter=300, n_init=10, random_state=0)\n",
    "y_kmeans = kmeans.fit_predict(X)"
   ]
  },
  {
   "cell_type": "code",
   "execution_count": null,
   "id": "a4c08675",
   "metadata": {},
   "outputs": [],
   "source": [
    "# Groups Before clustering\n",
    "plt.figure(figsize=(10,5))\n",
    "plt.scatter(X[:,0], X[:,1], c='black', label='Unclustered data')\n",
    "plt.title('Unclustered Data')\n",
    "plt.xlabel('Petal Length')\n",
    "plt.ylabel('Petal Width')\n",
    "plt.legend()\n",
    "plt.show()"
   ]
  },
  {
   "cell_type": "code",
   "execution_count": null,
   "id": "71392de2",
   "metadata": {},
   "outputs": [],
   "source": [
    "# Groups After clustering\n",
    "plt.figure(figsize=(10,5))\n",
    "plt.scatter(X[y_kmeans == 0, 0], X[y_kmeans == 0, 1], s=100, c='brown', label='Cluster 1')\n",
    "plt.scatter(X[y_kmeans == 1, 0], X[y_kmeans == 1, 1], s=100, c='lightcoral', label='Cluster 2')\n",
    "plt.scatter(X[y_kmeans == 2, 0], X[y_kmeans == 2, 1], s=100, c='teal', label='Cluster 3')\n",
    "plt.scatter(kmeans.cluster_centers_[:, 0], kmeans.cluster_centers_[:,1], s=300, c='violet', label='Centroids')\n",
    "plt.title('Clustered Data')\n",
    "plt.xlabel('Petal Length')\n",
    "plt.ylabel('Petal Width')\n",
    "plt.legend()\n",
    "plt.show()"
   ]
  },
  {
   "cell_type": "markdown",
   "id": "a2fd5cc6",
   "metadata": {},
   "source": [
    "<h1> Silhouette Score: </h1>\n",
    "\n",
    "<h5> Howwell our data points belong to our new clusters.</h5>"
   ]
  },
  {
   "cell_type": "code",
   "execution_count": null,
   "id": "16828fdf",
   "metadata": {},
   "outputs": [],
   "source": [
    "from sklearn.metrics import silhouette_score\n",
    "silhouette_score(X, kmeans.labels_)"
   ]
  },
  {
   "cell_type": "markdown",
   "id": "689a9a32",
   "metadata": {},
   "source": [
    "<h1> KMeans Inertia: </h1>\n",
    "\n",
    "<h5> It measures that how closely our data points were grouped. </h5>"
   ]
  },
  {
   "cell_type": "code",
   "execution_count": null,
   "id": "6d6c3879",
   "metadata": {},
   "outputs": [],
   "source": [
    "kmeans.inertia_"
   ]
  },
  {
   "cell_type": "code",
   "execution_count": null,
   "id": "46597baf",
   "metadata": {},
   "outputs": [],
   "source": [
    "# Done"
   ]
  }
 ],
 "metadata": {
  "kernelspec": {
   "display_name": "Python 3 (ipykernel)",
   "language": "python",
   "name": "python3"
  },
  "language_info": {
   "codemirror_mode": {
    "name": "ipython",
    "version": 3
   },
   "file_extension": ".py",
   "mimetype": "text/x-python",
   "name": "python",
   "nbconvert_exporter": "python",
   "pygments_lexer": "ipython3",
   "version": "3.9.13"
  }
 },
 "nbformat": 4,
 "nbformat_minor": 5
}
