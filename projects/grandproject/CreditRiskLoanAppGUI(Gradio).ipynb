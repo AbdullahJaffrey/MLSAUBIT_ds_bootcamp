{
 "cells": [
  {
   "cell_type": "code",
   "execution_count": 1,
   "id": "a3f19486",
   "metadata": {},
   "outputs": [],
   "source": [
    "import gradio as gr"
   ]
  },
  {
   "cell_type": "code",
   "execution_count": 2,
   "id": "c1232e3a",
   "metadata": {},
   "outputs": [],
   "source": [
    "import pickle"
   ]
  },
  {
   "cell_type": "code",
   "execution_count": 3,
   "id": "2166693f",
   "metadata": {},
   "outputs": [],
   "source": [
    "import warnings"
   ]
  },
  {
   "cell_type": "code",
   "execution_count": 4,
   "id": "6e7ea9f1",
   "metadata": {},
   "outputs": [],
   "source": [
    "warnings.filterwarnings('ignore')"
   ]
  },
  {
   "cell_type": "code",
   "execution_count": 5,
   "id": "140fa498",
   "metadata": {},
   "outputs": [],
   "source": [
    "def load_model():\n",
    "    with open('model.pkl', 'rb') as f:\n",
    "        model = pickle.load(f)\n",
    "    return model"
   ]
  },
  {
   "cell_type": "code",
   "execution_count": 6,
   "id": "05a0ea6c",
   "metadata": {},
   "outputs": [],
   "source": [
    "def predict(age, income, home, emp_length, intent, amount, rate, percent_income, default, cred_length):\n",
    "    model = load_model()\n",
    "    prediction = model.predict([[age, income, home, emp_length, intent, amount, rate, percent_income, default, cred_length]])\n",
    "    if prediction[0] == 0:\n",
    "        return \"Sorry - Your loan has been denied.\"\n",
    "    elif prediction[0] == 1:\n",
    "        return \"Congratulations - Your loan has been approved.\"\n",
    "    else:\n",
    "        return \"Kindly - Wait your loan is ongoing\""
   ]
  },
  {
   "cell_type": "code",
   "execution_count": 7,
   "id": "b81f4285",
   "metadata": {},
   "outputs": [],
   "source": [
    "age_input = gr.inputs.Slider(minimum=18, maximum=100, label=\"Age\")\n",
    "income_input = gr.inputs.Slider(minimum=100, maximum=2000000, label=\"Income\")\n",
    "home_input = gr.Dropdown(choices=[('Own', 0), ('Rent', 1), ('Mortgage', 2), ('Others', 3)], label=\"Home\")\n",
    "emp_length_input = gr.inputs.Slider(minimum=0, maximum=30, label=\"Employment Duration\")\n",
    "intent_input = gr.Dropdown(choices=[('DEBTCONSOLIDATION', 0), ('EDUCATION', 1), ('HOMEIMPROVEMENT', 2), ('MEDICAL', 3), ('PERSONAL', 4), ('VENTURE', 5)], label=\"Intent\")\n",
    "amount_input = gr.inputs.Slider(minimum=100, maximum=150000, label=\"Loan Amount\")\n",
    "rate_input = gr.inputs.Slider(minimum=0.1, maximum=20.0, label=\"Interest Rate\")\n",
    "percent_income_input = gr.inputs.Slider(minimum=0.01, maximum=1.0, label=\"Percentage of Income\")\n",
    "default_input = gr.Dropdown(choices=[('No', 0), ('Yes', 1)], label=\"Default History\")\n",
    "cred_length_input = gr.inputs.Slider(minimum=0, maximum=30, label=\"Credit History Length\")"
   ]
  },
  {
   "cell_type": "code",
   "execution_count": 8,
   "id": "33c4f2e6",
   "metadata": {},
   "outputs": [],
   "source": [
    "inputs = [age_input, income_input, home_input, emp_length_input, intent_input, amount_input, rate_input, percent_income_input, default_input, cred_length_input]"
   ]
  },
  {
   "cell_type": "code",
   "execution_count": 9,
   "id": "55ed6607",
   "metadata": {},
   "outputs": [],
   "source": [
    "iface = gr.Interface(fn=predict, \n",
    "                     inputs=[age_input, income_input, home_input, emp_length_input, intent_input, amount_input, rate_input, percent_income_input, default_input, cred_length_input], \n",
    "                     outputs=\"text\", \n",
    "                     title=\"Loan Default Predictor\")"
   ]
  },
  {
   "cell_type": "code",
   "execution_count": 10,
   "id": "768a2e7d",
   "metadata": {
    "scrolled": false
   },
   "outputs": [
    {
     "name": "stdout",
     "output_type": "stream",
     "text": [
      "Running on local URL:  http://127.0.0.1:7860\n",
      "\n",
      "Could not create share link. Please check your internet connection or our status page: https://status.gradio.app.\n"
     ]
    },
    {
     "data": {
      "text/html": [
       "<div><iframe src=\"http://127.0.0.1:7860/\" width=\"100%\" height=\"500\" allow=\"autoplay; camera; microphone; clipboard-read; clipboard-write;\" frameborder=\"0\" allowfullscreen></iframe></div>"
      ],
      "text/plain": [
       "<IPython.core.display.HTML object>"
      ]
     },
     "metadata": {},
     "output_type": "display_data"
    },
    {
     "data": {
      "text/plain": []
     },
     "execution_count": 10,
     "metadata": {},
     "output_type": "execute_result"
    }
   ],
   "source": [
    "iface.launch(share=True, prevent_thread_lock=False, inbrowser=True)"
   ]
  },
  {
   "cell_type": "code",
   "execution_count": 11,
   "id": "89c3b22c",
   "metadata": {},
   "outputs": [],
   "source": [
    "# 21,9600,2,5.0,1,1000,11.14,0.1,0,2 >> Status = 0\n",
    "\n",
    "# 26,25000,0,0.0,3,6250,15.310000,0.25,0,4 >> Status = 1"
   ]
  },
  {
   "cell_type": "code",
   "execution_count": 12,
   "id": "7d9e6996",
   "metadata": {},
   "outputs": [
    {
     "name": "stdout",
     "output_type": "stream",
     "text": [
      "The model predicts that this applicant is likely to default.\n"
     ]
    }
   ],
   "source": [
    "# Manually:\n",
    "\n",
    "with open('model.pkl', 'rb') as f:\n",
    "    model = pickle.load(f)\n",
    "\n",
    "prediction = model.predict([[21,9600,2,5.0,1,1000,11.14,0.1,0,2]])\n",
    "if prediction[0] == 0:\n",
    "    print(\"The model predicts that this applicant is likely to default.\")\n",
    "else:\n",
    "    print(\"The model predicts that this applicant is unlikely to default.\")"
   ]
  },
  {
   "cell_type": "code",
   "execution_count": 13,
   "id": "70f45a78",
   "metadata": {},
   "outputs": [],
   "source": [
    "# Done"
   ]
  }
 ],
 "metadata": {
  "kernelspec": {
   "display_name": "Python 3 (ipykernel)",
   "language": "python",
   "name": "python3"
  },
  "language_info": {
   "codemirror_mode": {
    "name": "ipython",
    "version": 3
   },
   "file_extension": ".py",
   "mimetype": "text/x-python",
   "name": "python",
   "nbconvert_exporter": "python",
   "pygments_lexer": "ipython3",
   "version": "3.9.13"
  }
 },
 "nbformat": 4,
 "nbformat_minor": 5
}
