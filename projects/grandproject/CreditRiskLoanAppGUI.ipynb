{
 "cells": [
  {
   "cell_type": "code",
   "execution_count": 1,
   "id": "a3f19486",
   "metadata": {},
   "outputs": [],
   "source": [
    "import ipywidgets as widgets"
   ]
  },
  {
   "cell_type": "code",
   "execution_count": 2,
   "id": "c7bf2775",
   "metadata": {},
   "outputs": [],
   "source": [
    "from IPython.display import display"
   ]
  },
  {
   "cell_type": "code",
   "execution_count": 3,
   "id": "c1232e3a",
   "metadata": {},
   "outputs": [],
   "source": [
    "import pickle"
   ]
  },
  {
   "cell_type": "code",
   "execution_count": 4,
   "id": "2166693f",
   "metadata": {},
   "outputs": [],
   "source": [
    "import warnings"
   ]
  },
  {
   "cell_type": "code",
   "execution_count": 5,
   "id": "6e7ea9f1",
   "metadata": {},
   "outputs": [],
   "source": [
    "warnings.filterwarnings('ignore')"
   ]
  },
  {
   "cell_type": "code",
   "execution_count": 6,
   "id": "140fa498",
   "metadata": {},
   "outputs": [],
   "source": [
    "def load_model():\n",
    "    with open('model.pkl', 'rb') as f:\n",
    "        model = pickle.load(f)\n",
    "    return model"
   ]
  },
  {
   "cell_type": "code",
   "execution_count": 7,
   "id": "05a0ea6c",
   "metadata": {},
   "outputs": [],
   "source": [
    "def predict(age, income, home, emp_length, intent, amount, rate, percent_income, default, cred_length):\n",
    "    model = load_model()\n",
    "    prediction = model.predict([[age, income, home, emp_length, intent, amount, rate, percent_income, default, cred_length]])\n",
    "    if prediction[0] == 0:\n",
    "        print(\"The model predicts that this applicant is likely to default.\")\n",
    "    else:\n",
    "        print(\"The model predicts that this applicant is unlikely to default.\")"
   ]
  },
  {
   "cell_type": "code",
   "execution_count": 8,
   "id": "f7c3f3cf",
   "metadata": {},
   "outputs": [],
   "source": [
    "age = widgets.IntSlider(min=18, max=100, value=21, description='Age: ')"
   ]
  },
  {
   "cell_type": "code",
   "execution_count": 9,
   "id": "b81f4285",
   "metadata": {},
   "outputs": [],
   "source": [
    "income = widgets.IntSlider(min=100, max=2000000, value=9600, description='Income: ')"
   ]
  },
  {
   "cell_type": "code",
   "execution_count": 10,
   "id": "4ce24f11",
   "metadata": {},
   "outputs": [],
   "source": [
    "home = widgets.Dropdown(options=[('Own', 0), ('Rent', 1), ('Mortgage', 2), ('Others', 3)], description='Home: ')"
   ]
  },
  {
   "cell_type": "code",
   "execution_count": 11,
   "id": "344672f0",
   "metadata": {},
   "outputs": [],
   "source": [
    "emp_length = widgets.IntSlider(min=0, max=30, value=5.0, description='Employment Duration: ')"
   ]
  },
  {
   "cell_type": "code",
   "execution_count": 12,
   "id": "2c430a06",
   "metadata": {},
   "outputs": [],
   "source": [
    "intent = widgets.IntSlider(min=0, max=6, value=1, description='Intent: ')"
   ]
  },
  {
   "cell_type": "code",
   "execution_count": 13,
   "id": "825e4825",
   "metadata": {},
   "outputs": [],
   "source": [
    "amount = widgets.IntSlider(min=100, max=150000, value=1000, description='Loan Amount: ')"
   ]
  },
  {
   "cell_type": "code",
   "execution_count": 14,
   "id": "535fbf19",
   "metadata": {},
   "outputs": [],
   "source": [
    "rate = widgets.FloatSlider(min=0.1, max=20.0, value=11.14, description='Interest Rate: ')"
   ]
  },
  {
   "cell_type": "code",
   "execution_count": 15,
   "id": "d09b9e00",
   "metadata": {},
   "outputs": [],
   "source": [
    "percent_income = widgets.FloatSlider(min=0.01, max=1.0, value=0.1, description='Percentage of Income: ')"
   ]
  },
  {
   "cell_type": "code",
   "execution_count": 16,
   "id": "45d5bbc5",
   "metadata": {},
   "outputs": [],
   "source": [
    "default = widgets.Dropdown(options=[('No', 0), ('Yes', 1)], description='Default History: ')"
   ]
  },
  {
   "cell_type": "code",
   "execution_count": 17,
   "id": "b2ea43f4",
   "metadata": {},
   "outputs": [],
   "source": [
    "cred_length = widgets.IntSlider(min=0, max=30, value=2, description='Credit History Length: ')"
   ]
  },
  {
   "cell_type": "code",
   "execution_count": 18,
   "id": "55ed6607",
   "metadata": {},
   "outputs": [],
   "source": [
    "button = widgets.Button(description='Predict')"
   ]
  },
  {
   "cell_type": "code",
   "execution_count": 19,
   "id": "2d179525",
   "metadata": {},
   "outputs": [],
   "source": [
    "output = widgets.Output()"
   ]
  },
  {
   "cell_type": "code",
   "execution_count": 20,
   "id": "5c8b737a",
   "metadata": {},
   "outputs": [],
   "source": [
    "def on_button_clicked(b):\n",
    "    with output:\n",
    "        output.clear_output()\n",
    "        predict(age.value, income.value, home.value, emp_length.value, intent.value, amount.value, rate.value, percent_income.value, default.value, cred_length.value)"
   ]
  },
  {
   "cell_type": "code",
   "execution_count": 21,
   "id": "a0f60838",
   "metadata": {},
   "outputs": [],
   "source": [
    "button.on_click(on_button_clicked)"
   ]
  },
  {
   "cell_type": "code",
   "execution_count": 22,
   "id": "2930f7af",
   "metadata": {},
   "outputs": [
    {
     "data": {
      "application/vnd.jupyter.widget-view+json": {
       "model_id": "f49a42e3beea49429b0f1f3292676ced",
       "version_major": 2,
       "version_minor": 0
      },
      "text/plain": [
       "VBox(children=(IntSlider(value=21, description='Age: ', min=18), IntSlider(value=9600, description='Income: ',…"
      ]
     },
     "metadata": {},
     "output_type": "display_data"
    }
   ],
   "source": [
    "widgets.VBox([age, income, home, emp_length, intent, amount, rate, percent_income, default, cred_length, button, output])"
   ]
  },
  {
   "cell_type": "code",
   "execution_count": 23,
   "id": "89c3b22c",
   "metadata": {},
   "outputs": [],
   "source": [
    "# 21,9600,2,5.0,1,1000,11.14,0.1,0,2 >> Status = 0"
   ]
  },
  {
   "cell_type": "code",
   "execution_count": 24,
   "id": "7d9e6996",
   "metadata": {},
   "outputs": [
    {
     "name": "stdout",
     "output_type": "stream",
     "text": [
      "The model predicts that this applicant is likely to default.\n"
     ]
    }
   ],
   "source": [
    "# Manually:\n",
    "\n",
    "with open('model.pkl', 'rb') as f:\n",
    "    model = pickle.load(f)\n",
    "\n",
    "prediction = model.predict([[21,9600,2,5.0,1,1000,11.14,0.1,0,2]])\n",
    "if prediction[0] == 0:\n",
    "    print(\"The model predicts that this applicant is likely to default.\")\n",
    "else:\n",
    "    print(\"The model predicts that this applicant is unlikely to default.\")"
   ]
  },
  {
   "cell_type": "code",
   "execution_count": 25,
   "id": "70f45a78",
   "metadata": {},
   "outputs": [],
   "source": [
    "# Done"
   ]
  }
 ],
 "metadata": {
  "kernelspec": {
   "display_name": "Python 3 (ipykernel)",
   "language": "python",
   "name": "python3"
  },
  "language_info": {
   "codemirror_mode": {
    "name": "ipython",
    "version": 3
   },
   "file_extension": ".py",
   "mimetype": "text/x-python",
   "name": "python",
   "nbconvert_exporter": "python",
   "pygments_lexer": "ipython3",
   "version": "3.9.13"
  }
 },
 "nbformat": 4,
 "nbformat_minor": 5
}
